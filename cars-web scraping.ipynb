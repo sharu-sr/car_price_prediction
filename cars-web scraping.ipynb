{
 "cells": [
  {
   "cell_type": "markdown",
   "id": "4a237501",
   "metadata": {},
   "source": [
    "# web scraping of cars"
   ]
  },
  {
   "cell_type": "code",
   "execution_count": 23,
   "id": "f6dd34be",
   "metadata": {},
   "outputs": [],
   "source": [
    "from bs4 import BeautifulSoup\n",
    "import requests"
   ]
  },
  {
   "cell_type": "markdown",
   "id": "63c71974",
   "metadata": {},
   "source": [
    "from cars24.com"
   ]
  },
  {
   "cell_type": "code",
   "execution_count": 29,
   "id": "3ab24d9a",
   "metadata": {},
   "outputs": [],
   "source": [
    "page = requests.get('https://www.cars24.com/buy-used-car?sort=P&storeCityId=2&pinId=110001')"
   ]
  },
  {
   "cell_type": "code",
   "execution_count": 30,
   "id": "ef5c6b63",
   "metadata": {},
   "outputs": [
    {
     "data": {
      "text/plain": [
       "<Response [200]>"
      ]
     },
     "execution_count": 30,
     "metadata": {},
     "output_type": "execute_result"
    }
   ],
   "source": [
    "page"
   ]
  },
  {
   "cell_type": "code",
   "execution_count": 31,
   "id": "a655913e",
   "metadata": {},
   "outputs": [],
   "source": [
    "soup = BeautifulSoup(page.content)"
   ]
  },
  {
   "cell_type": "code",
   "execution_count": 33,
   "id": "c4e44142",
   "metadata": {},
   "outputs": [
    {
     "data": {
      "text/plain": [
       "['2010 Maruti A Star',\n",
       " '2012 Maruti Swift Dzire',\n",
       " '2013 Maruti Swift Dzire',\n",
       " '2014 Maruti Swift Dzire',\n",
       " '2013 Maruti Swift',\n",
       " '2016 Maruti Vitara Brezza',\n",
       " '2016 Maruti Wagon R 1.0',\n",
       " '2015 Maruti Ertiga',\n",
       " '2014 Maruti Wagon R 1.0',\n",
       " '2015 Maruti Swift',\n",
       " '2015 Maruti Swift',\n",
       " '2017 Maruti Vitara Brezza',\n",
       " '2019 Toyota Innova Crysta',\n",
       " '2017 Toyota Innova Crysta',\n",
       " '2016 Hyundai Creta',\n",
       " '2017 Ford Ecosport',\n",
       " '2012 Volvo S60',\n",
       " '2013 Nissan Terrano',\n",
       " '2018 Maruti Baleno',\n",
       " '2021 HYUNDAI NEW I20']"
      ]
     },
     "execution_count": 33,
     "metadata": {},
     "output_type": "execute_result"
    }
   ],
   "source": [
    "name=[]\n",
    "\n",
    "for i in soup.find_all('h2',class_='_3FpCg'):\n",
    "    name.append(i.text)\n",
    "name"
   ]
  },
  {
   "cell_type": "code",
   "execution_count": 34,
   "id": "ec2b7465",
   "metadata": {},
   "outputs": [
    {
     "data": {
      "text/plain": [
       "['₹231,099',\n",
       " '₹352,799',\n",
       " '₹353,699',\n",
       " '₹401,599',\n",
       " '₹403,799',\n",
       " '₹593,999',\n",
       " '₹335,799',\n",
       " '₹643,899',\n",
       " '₹335,174',\n",
       " '₹435,099',\n",
       " '₹436,599',\n",
       " '₹689,599',\n",
       " '₹1,697,799',\n",
       " '₹1,525,699',\n",
       " '₹833,699',\n",
       " '₹719,199',\n",
       " '₹927,399',\n",
       " '₹420,599',\n",
       " '₹620,299',\n",
       " '₹744,499']"
      ]
     },
     "execution_count": 34,
     "metadata": {},
     "output_type": "execute_result"
    }
   ],
   "source": [
    "price=[]\n",
    "\n",
    "for i in soup.find_all('div',class_='_7udZZ'):\n",
    "    price.append(i.text)\n",
    "price"
   ]
  },
  {
   "cell_type": "code",
   "execution_count": 42,
   "id": "04487cdd",
   "metadata": {},
   "outputs": [
    {
     "data": {
      "text/plain": [
       "['25,346 km1st OwnerPetrol',\n",
       " '115,145 km1st OwnerDiesel',\n",
       " '105,088 km1st OwnerPetrol',\n",
       " '87,119 km1st OwnerDiesel',\n",
       " '24,652 km1st OwnerDiesel',\n",
       " '30,116 km1st OwnerDiesel',\n",
       " '71,758 km2nd OwnerPetrol',\n",
       " '52,870 km1st OwnerDiesel',\n",
       " '24,454 km1st OwnerPetrol',\n",
       " '89,196 km1st OwnerDiesel',\n",
       " '44,638 km1st OwnerDiesel',\n",
       " '35,406 km1st OwnerDiesel',\n",
       " '31,813 km1st OwnerDiesel',\n",
       " '85,295 km1st OwnerDiesel',\n",
       " '54,233 km1st OwnerDiesel',\n",
       " '40,139 km1st OwnerPetrol',\n",
       " '41,361 km2nd OwnerDiesel',\n",
       " '62,883 km2nd OwnerDiesel',\n",
       " '7,950 km1st OwnerPetrol',\n",
       " '1,026 km1st OwnerPetrol']"
      ]
     },
     "execution_count": 42,
     "metadata": {},
     "output_type": "execute_result"
    }
   ],
   "source": [
    "distance=[]\n",
    "\n",
    "for i in soup.find_all('ul',class_='bVR0c'):\n",
    "    distance.append(i.text)\n",
    "distance"
   ]
  },
  {
   "cell_type": "code",
   "execution_count": 47,
   "id": "986089e2",
   "metadata": {},
   "outputs": [
    {
     "data": {
      "text/plain": [
       "['25,346 km1st OwnerPetrol',\n",
       " '115,145 km1st OwnerDiesel',\n",
       " '105,088 km1st OwnerPetrol',\n",
       " '87,119 km1st OwnerDiesel',\n",
       " '24,652 km1st OwnerDiesel',\n",
       " '30,116 km1st OwnerDiesel',\n",
       " '71,758 km2nd OwnerPetrol',\n",
       " '52,870 km1st OwnerDiesel',\n",
       " '24,454 km1st OwnerPetrol',\n",
       " '89,196 km1st OwnerDiesel',\n",
       " '44,638 km1st OwnerDiesel',\n",
       " '35,406 km1st OwnerDiesel',\n",
       " '31,813 km1st OwnerDiesel',\n",
       " '85,295 km1st OwnerDiesel',\n",
       " '54,233 km1st OwnerDiesel',\n",
       " '40,139 km1st OwnerPetrol',\n",
       " '41,361 km2nd OwnerDiesel',\n",
       " '62,883 km2nd OwnerDiesel',\n",
       " '7,950 km1st OwnerPetrol',\n",
       " '1,026 km1st OwnerPetrol']"
      ]
     },
     "execution_count": 47,
     "metadata": {},
     "output_type": "execute_result"
    }
   ],
   "source": [
    "fuel=[]\n",
    "\n",
    "for i in soup.find_all('ul',class_='bVR0c'):\n",
    "    fuel.append(i.text)\n",
    "fuel"
   ]
  },
  {
   "cell_type": "code",
   "execution_count": 49,
   "id": "c5855a24",
   "metadata": {},
   "outputs": [
    {
     "name": "stdout",
     "output_type": "stream",
     "text": [
      "20 20 20 20\n"
     ]
    }
   ],
   "source": [
    "print(len(name),len(price),len(distance),len(fuel))"
   ]
  },
  {
   "cell_type": "code",
   "execution_count": 51,
   "id": "cc11c4b6",
   "metadata": {},
   "outputs": [],
   "source": [
    "import pandas as pd"
   ]
  },
  {
   "cell_type": "code",
   "execution_count": 52,
   "id": "4559a337",
   "metadata": {},
   "outputs": [
    {
     "data": {
      "text/html": [
       "<div>\n",
       "<style scoped>\n",
       "    .dataframe tbody tr th:only-of-type {\n",
       "        vertical-align: middle;\n",
       "    }\n",
       "\n",
       "    .dataframe tbody tr th {\n",
       "        vertical-align: top;\n",
       "    }\n",
       "\n",
       "    .dataframe thead th {\n",
       "        text-align: right;\n",
       "    }\n",
       "</style>\n",
       "<table border=\"1\" class=\"dataframe\">\n",
       "  <thead>\n",
       "    <tr style=\"text-align: right;\">\n",
       "      <th></th>\n",
       "      <th>Names</th>\n",
       "      <th>Price</th>\n",
       "      <th>Distance</th>\n",
       "      <th>Fuel</th>\n",
       "    </tr>\n",
       "  </thead>\n",
       "  <tbody>\n",
       "    <tr>\n",
       "      <th>0</th>\n",
       "      <td>2010 Maruti A Star</td>\n",
       "      <td>₹231,099</td>\n",
       "      <td>25,346 km1st OwnerPetrol</td>\n",
       "      <td>25,346 km1st OwnerPetrol</td>\n",
       "    </tr>\n",
       "    <tr>\n",
       "      <th>1</th>\n",
       "      <td>2012 Maruti Swift Dzire</td>\n",
       "      <td>₹352,799</td>\n",
       "      <td>115,145 km1st OwnerDiesel</td>\n",
       "      <td>115,145 km1st OwnerDiesel</td>\n",
       "    </tr>\n",
       "    <tr>\n",
       "      <th>2</th>\n",
       "      <td>2013 Maruti Swift Dzire</td>\n",
       "      <td>₹353,699</td>\n",
       "      <td>105,088 km1st OwnerPetrol</td>\n",
       "      <td>105,088 km1st OwnerPetrol</td>\n",
       "    </tr>\n",
       "    <tr>\n",
       "      <th>3</th>\n",
       "      <td>2014 Maruti Swift Dzire</td>\n",
       "      <td>₹401,599</td>\n",
       "      <td>87,119 km1st OwnerDiesel</td>\n",
       "      <td>87,119 km1st OwnerDiesel</td>\n",
       "    </tr>\n",
       "    <tr>\n",
       "      <th>4</th>\n",
       "      <td>2013 Maruti Swift</td>\n",
       "      <td>₹403,799</td>\n",
       "      <td>24,652 km1st OwnerDiesel</td>\n",
       "      <td>24,652 km1st OwnerDiesel</td>\n",
       "    </tr>\n",
       "    <tr>\n",
       "      <th>5</th>\n",
       "      <td>2016 Maruti Vitara Brezza</td>\n",
       "      <td>₹593,999</td>\n",
       "      <td>30,116 km1st OwnerDiesel</td>\n",
       "      <td>30,116 km1st OwnerDiesel</td>\n",
       "    </tr>\n",
       "    <tr>\n",
       "      <th>6</th>\n",
       "      <td>2016 Maruti Wagon R 1.0</td>\n",
       "      <td>₹335,799</td>\n",
       "      <td>71,758 km2nd OwnerPetrol</td>\n",
       "      <td>71,758 km2nd OwnerPetrol</td>\n",
       "    </tr>\n",
       "    <tr>\n",
       "      <th>7</th>\n",
       "      <td>2015 Maruti Ertiga</td>\n",
       "      <td>₹643,899</td>\n",
       "      <td>52,870 km1st OwnerDiesel</td>\n",
       "      <td>52,870 km1st OwnerDiesel</td>\n",
       "    </tr>\n",
       "    <tr>\n",
       "      <th>8</th>\n",
       "      <td>2014 Maruti Wagon R 1.0</td>\n",
       "      <td>₹335,174</td>\n",
       "      <td>24,454 km1st OwnerPetrol</td>\n",
       "      <td>24,454 km1st OwnerPetrol</td>\n",
       "    </tr>\n",
       "    <tr>\n",
       "      <th>9</th>\n",
       "      <td>2015 Maruti Swift</td>\n",
       "      <td>₹435,099</td>\n",
       "      <td>89,196 km1st OwnerDiesel</td>\n",
       "      <td>89,196 km1st OwnerDiesel</td>\n",
       "    </tr>\n",
       "    <tr>\n",
       "      <th>10</th>\n",
       "      <td>2015 Maruti Swift</td>\n",
       "      <td>₹436,599</td>\n",
       "      <td>44,638 km1st OwnerDiesel</td>\n",
       "      <td>44,638 km1st OwnerDiesel</td>\n",
       "    </tr>\n",
       "    <tr>\n",
       "      <th>11</th>\n",
       "      <td>2017 Maruti Vitara Brezza</td>\n",
       "      <td>₹689,599</td>\n",
       "      <td>35,406 km1st OwnerDiesel</td>\n",
       "      <td>35,406 km1st OwnerDiesel</td>\n",
       "    </tr>\n",
       "    <tr>\n",
       "      <th>12</th>\n",
       "      <td>2019 Toyota Innova Crysta</td>\n",
       "      <td>₹1,697,799</td>\n",
       "      <td>31,813 km1st OwnerDiesel</td>\n",
       "      <td>31,813 km1st OwnerDiesel</td>\n",
       "    </tr>\n",
       "    <tr>\n",
       "      <th>13</th>\n",
       "      <td>2017 Toyota Innova Crysta</td>\n",
       "      <td>₹1,525,699</td>\n",
       "      <td>85,295 km1st OwnerDiesel</td>\n",
       "      <td>85,295 km1st OwnerDiesel</td>\n",
       "    </tr>\n",
       "    <tr>\n",
       "      <th>14</th>\n",
       "      <td>2016 Hyundai Creta</td>\n",
       "      <td>₹833,699</td>\n",
       "      <td>54,233 km1st OwnerDiesel</td>\n",
       "      <td>54,233 km1st OwnerDiesel</td>\n",
       "    </tr>\n",
       "    <tr>\n",
       "      <th>15</th>\n",
       "      <td>2017 Ford Ecosport</td>\n",
       "      <td>₹719,199</td>\n",
       "      <td>40,139 km1st OwnerPetrol</td>\n",
       "      <td>40,139 km1st OwnerPetrol</td>\n",
       "    </tr>\n",
       "    <tr>\n",
       "      <th>16</th>\n",
       "      <td>2012 Volvo S60</td>\n",
       "      <td>₹927,399</td>\n",
       "      <td>41,361 km2nd OwnerDiesel</td>\n",
       "      <td>41,361 km2nd OwnerDiesel</td>\n",
       "    </tr>\n",
       "    <tr>\n",
       "      <th>17</th>\n",
       "      <td>2013 Nissan Terrano</td>\n",
       "      <td>₹420,599</td>\n",
       "      <td>62,883 km2nd OwnerDiesel</td>\n",
       "      <td>62,883 km2nd OwnerDiesel</td>\n",
       "    </tr>\n",
       "    <tr>\n",
       "      <th>18</th>\n",
       "      <td>2018 Maruti Baleno</td>\n",
       "      <td>₹620,299</td>\n",
       "      <td>7,950 km1st OwnerPetrol</td>\n",
       "      <td>7,950 km1st OwnerPetrol</td>\n",
       "    </tr>\n",
       "    <tr>\n",
       "      <th>19</th>\n",
       "      <td>2021 HYUNDAI NEW I20</td>\n",
       "      <td>₹744,499</td>\n",
       "      <td>1,026 km1st OwnerPetrol</td>\n",
       "      <td>1,026 km1st OwnerPetrol</td>\n",
       "    </tr>\n",
       "  </tbody>\n",
       "</table>\n",
       "</div>"
      ],
      "text/plain": [
       "                        Names       Price                   Distance  \\\n",
       "0          2010 Maruti A Star    ₹231,099   25,346 km1st OwnerPetrol   \n",
       "1     2012 Maruti Swift Dzire    ₹352,799  115,145 km1st OwnerDiesel   \n",
       "2     2013 Maruti Swift Dzire    ₹353,699  105,088 km1st OwnerPetrol   \n",
       "3     2014 Maruti Swift Dzire    ₹401,599   87,119 km1st OwnerDiesel   \n",
       "4           2013 Maruti Swift    ₹403,799   24,652 km1st OwnerDiesel   \n",
       "5   2016 Maruti Vitara Brezza    ₹593,999   30,116 km1st OwnerDiesel   \n",
       "6     2016 Maruti Wagon R 1.0    ₹335,799   71,758 km2nd OwnerPetrol   \n",
       "7          2015 Maruti Ertiga    ₹643,899   52,870 km1st OwnerDiesel   \n",
       "8     2014 Maruti Wagon R 1.0    ₹335,174   24,454 km1st OwnerPetrol   \n",
       "9           2015 Maruti Swift    ₹435,099   89,196 km1st OwnerDiesel   \n",
       "10          2015 Maruti Swift    ₹436,599   44,638 km1st OwnerDiesel   \n",
       "11  2017 Maruti Vitara Brezza    ₹689,599   35,406 km1st OwnerDiesel   \n",
       "12  2019 Toyota Innova Crysta  ₹1,697,799   31,813 km1st OwnerDiesel   \n",
       "13  2017 Toyota Innova Crysta  ₹1,525,699   85,295 km1st OwnerDiesel   \n",
       "14         2016 Hyundai Creta    ₹833,699   54,233 km1st OwnerDiesel   \n",
       "15         2017 Ford Ecosport    ₹719,199   40,139 km1st OwnerPetrol   \n",
       "16             2012 Volvo S60    ₹927,399   41,361 km2nd OwnerDiesel   \n",
       "17        2013 Nissan Terrano    ₹420,599   62,883 km2nd OwnerDiesel   \n",
       "18         2018 Maruti Baleno    ₹620,299    7,950 km1st OwnerPetrol   \n",
       "19       2021 HYUNDAI NEW I20    ₹744,499    1,026 km1st OwnerPetrol   \n",
       "\n",
       "                         Fuel  \n",
       "0    25,346 km1st OwnerPetrol  \n",
       "1   115,145 km1st OwnerDiesel  \n",
       "2   105,088 km1st OwnerPetrol  \n",
       "3    87,119 km1st OwnerDiesel  \n",
       "4    24,652 km1st OwnerDiesel  \n",
       "5    30,116 km1st OwnerDiesel  \n",
       "6    71,758 km2nd OwnerPetrol  \n",
       "7    52,870 km1st OwnerDiesel  \n",
       "8    24,454 km1st OwnerPetrol  \n",
       "9    89,196 km1st OwnerDiesel  \n",
       "10   44,638 km1st OwnerDiesel  \n",
       "11   35,406 km1st OwnerDiesel  \n",
       "12   31,813 km1st OwnerDiesel  \n",
       "13   85,295 km1st OwnerDiesel  \n",
       "14   54,233 km1st OwnerDiesel  \n",
       "15   40,139 km1st OwnerPetrol  \n",
       "16   41,361 km2nd OwnerDiesel  \n",
       "17   62,883 km2nd OwnerDiesel  \n",
       "18    7,950 km1st OwnerPetrol  \n",
       "19    1,026 km1st OwnerPetrol  "
      ]
     },
     "execution_count": 52,
     "metadata": {},
     "output_type": "execute_result"
    }
   ],
   "source": [
    "df=pd.DataFrame({'Names':name,'Price':price,'Distance':distance,'Fuel':fuel})\n",
    "df"
   ]
  },
  {
   "cell_type": "code",
   "execution_count": 59,
   "id": "b572a093",
   "metadata": {},
   "outputs": [],
   "source": [
    "page=requests.get('https://www.ola.cars/listings/buy-used+city-is-bangalore+sort-is-rel-relevance?utm_source=google&utm_medium=cpc&utm_campaign=UsedSpecific-Prices-Bengaluru&gclid=CjwKCAiA24SPBhB0EiwAjBgkhqKsvKx4g9HeWXCZIkssvS_njf3SPTKW_gBERwuHoei7nuDcXESEMxoCMdYQAvD_BwE')"
   ]
  },
  {
   "cell_type": "code",
   "execution_count": 60,
   "id": "758ced66",
   "metadata": {},
   "outputs": [
    {
     "data": {
      "text/plain": [
       "<Response [200]>"
      ]
     },
     "execution_count": 60,
     "metadata": {},
     "output_type": "execute_result"
    }
   ],
   "source": [
    "page"
   ]
  },
  {
   "cell_type": "code",
   "execution_count": 61,
   "id": "c77dbabb",
   "metadata": {},
   "outputs": [],
   "source": [
    "soup = BeautifulSoup(page.content)"
   ]
  },
  {
   "cell_type": "code",
   "execution_count": 64,
   "id": "3cd5e15d",
   "metadata": {},
   "outputs": [
    {
     "data": {
      "text/plain": [
       "[]"
      ]
     },
     "execution_count": 64,
     "metadata": {},
     "output_type": "execute_result"
    }
   ],
   "source": [
    "name=[]\n",
    "for i in soup.find_all('p',class_='fs-16 lh-24 fw-500 black'):\n",
    "     name.append(i.text)\n",
    "name\n"
   ]
  },
  {
   "cell_type": "code",
   "execution_count": null,
   "id": "8be15eeb",
   "metadata": {},
   "outputs": [],
   "source": []
  }
 ],
 "metadata": {
  "kernelspec": {
   "display_name": "Python 3",
   "language": "python",
   "name": "python3"
  },
  "language_info": {
   "codemirror_mode": {
    "name": "ipython",
    "version": 3
   },
   "file_extension": ".py",
   "mimetype": "text/x-python",
   "name": "python",
   "nbconvert_exporter": "python",
   "pygments_lexer": "ipython3",
   "version": "3.8.8"
  }
 },
 "nbformat": 4,
 "nbformat_minor": 5
}
